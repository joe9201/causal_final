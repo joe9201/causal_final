{
 "cells": [
  {
   "cell_type": "code",
   "execution_count": 5,
   "id": "f300957e-c30a-4a5d-880c-5bd2e525a364",
   "metadata": {},
   "outputs": [],
   "source": [
    "import os\n",
    "import json\n",
    "import numpy as np\n",
    "import pandas as pd\n",
    "from sklearn.linear_model import LogisticRegression\n",
    "from causallib.estimation import IPW\n",
    "from causalvis import CohortEvaluator, TreatmentEffectExplorer\n",
    "from data_preparation import load_and_prepare_student_data, load_and_prepare_adult_data, apply_variable_mapping, student_variable_mapping\n",
    "from matching import perform_matching\n",
    "from dag_utils import load_dag"
   ]
  },
  {
   "cell_type": "code",
   "execution_count": 6,
   "id": "c35da220-5cb2-4642-b6d0-b3c62a6574de",
   "metadata": {},
   "outputs": [],
   "source": [
    "def convert_types(data):\n",
    "    \"\"\" Convert numpy data types to native Python types for JSON serialization. \"\"\"\n",
    "    if isinstance(data, dict):\n",
    "        return {k: convert_types(v) for k, v in data.items()}\n",
    "    elif isinstance(data, list):\n",
    "        return [convert_types(i) for i in data]\n",
    "    elif isinstance(data, (np.int32, np.int64)):\n",
    "        return int(data)\n",
    "    elif isinstance(data, (np.float32, np.float64)):\n",
    "        return float(data)\n",
    "    else:\n",
    "        return data"
   ]
  },
  {
   "cell_type": "code",
   "execution_count": 7,
   "id": "f2a4beab-5cbc-4841-8cd9-df5af65f7dcb",
   "metadata": {},
   "outputs": [
    {
     "name": "stdout",
     "output_type": "stream",
     "text": [
      "Confounds:  ['race', 'age', 'sex', 'native.country', 'marital.status', 'education']\n",
      "Prognostics:  ['occupation', 'workclass', 'relationship']\n"
     ]
    }
   ],
   "source": [
    "dataset = 'adult'  # Change to 'student' for the student dataset\n",
    "data_file = 'data/adult_cleaned.csv' if dataset == 'adult' else 'data/student-por_raw.csv'\n",
    "\n",
    "# Load and prepare data\n",
    "if dataset == 'adult':\n",
    "    df_encoded, labels, data = load_and_prepare_adult_data(data_file)\n",
    "else:\n",
    "    df_encoded, labels, data = load_and_prepare_student_data(data_file)\n",
    "\n",
    "# Load DAG and map variables\n",
    "dag_file = 'adult_true_confounders.json' if dataset == 'adult' else 'student_true_confounders.json'\n",
    "G, confounds, prognostics = load_dag(dag_file)\n",
    "\n",
    "if dataset == 'student':\n",
    "    confounds = apply_variable_mapping(confounds, student_variable_mapping)\n",
    "    prognostics = apply_variable_mapping(prognostics, student_variable_mapping)\n",
    "\n",
    "print(\"Confounds: \", confounds)\n",
    "print(\"Prognostics: \", prognostics)"
   ]
  },
  {
   "cell_type": "code",
   "execution_count": 8,
   "id": "d081a10c-5d83-40c8-92c1-3ea1e7075e56",
   "metadata": {},
   "outputs": [
    {
     "name": "stdout",
     "output_type": "stream",
     "text": [
      "Before matching - df_encoded shape: (30162, 11)\n",
      "Covariates:  ['race', 'age', 'sex', 'native.country', 'marital.status', 'education', 'occupation', 'workclass', 'relationship']\n",
      "X shape:  (30162, 9)\n",
      "X types:  race              object\n",
      "age                int64\n",
      "sex               object\n",
      "native.country    object\n",
      "marital.status    object\n",
      "education         object\n",
      "occupation        object\n",
      "workclass         object\n",
      "relationship      object\n",
      "dtype: object\n",
      "a shape:  (30162,)\n",
      "a types:  int32\n",
      "y shape:  (30162,)\n",
      "y types:  object\n",
      "After matching - adjustedCohort length: 29846, unadjustedCohort length: 30162\n"
     ]
    }
   ],
   "source": [
    "treatment = 'hours.per.week' if dataset == 'adult' else 'absences'\n",
    "outcome = 'income' if dataset == 'adult' else 'G_avg'\n",
    "\n",
    "# Perform matching\n",
    "print(f\"Before matching - df_encoded shape: {df_encoded.shape}\")\n",
    "adjustedCohort, unadjustedCohort = perform_matching(df_encoded, confounds, prognostics, treatment, outcome)\n",
    "print(f\"After matching - adjustedCohort length: {len(adjustedCohort)}, unadjustedCohort length: {len(unadjustedCohort)}\")"
   ]
  },
  {
   "cell_type": "code",
   "execution_count": 9,
   "id": "888eae3d-d6d2-4b57-92a7-5374746b62b7",
   "metadata": {},
   "outputs": [],
   "source": [
    "adjustedCohort = convert_types(adjustedCohort)\n",
    "unadjustedCohort = convert_types(unadjustedCohort)\n",
    "\n",
    "# Save cohorts for visualization\n",
    "base_name = os.path.splitext(os.path.basename(dag_file))[0]\n",
    "adjusted_file_name = f'adjustedCohort_{base_name}.json'\n",
    "unadjusted_file_name = f'unadjustedCohort_{base_name}.json'\n",
    "\n",
    "with open(adjusted_file_name, 'w') as f:\n",
    "    json.dump(adjustedCohort, f, indent=4)\n",
    "with open(unadjusted_file_name, 'w') as f:\n",
    "    json.dump(unadjustedCohort, f, indent=4)"
   ]
  },
  {
   "cell_type": "code",
   "execution_count": 10,
   "id": "7d337ff0-d5ee-4e31-b450-dfc168d0d1b2",
   "metadata": {},
   "outputs": [
    {
     "data": {
      "application/vnd.jupyter.widget-view+json": {
       "model_id": "7942a8d3370348899077a42a07383edd",
       "version_major": 2,
       "version_minor": 0
      },
      "text/plain": [
       "CohortEvaluator(component='CohortEvaluator', props={'unadjustedCohort': [{'race': 1, 'age': 82, 'sex': 2, 'nat…"
      ]
     },
     "metadata": {},
     "output_type": "display_data"
    }
   ],
   "source": [
    "cohort_evaluator = CohortEvaluator(unadjustedCohort=unadjustedCohort)\n",
    "display(cohort_evaluator)"
   ]
  },
  {
   "cell_type": "code",
   "execution_count": 13,
   "id": "21e92839-4b89-46b7-a535-15d20b888221",
   "metadata": {},
   "outputs": [
    {
     "name": "stdout",
     "output_type": "stream",
     "text": [
      "Average Treatment Effect (ATE): 0.11107210131884968\n"
     ]
    }
   ],
   "source": [
    "X = df_encoded[confounds + prognostics]\n",
    "a = df_encoded[treatment] >= df_encoded[treatment].median()\n",
    "a = a.astype(int)\n",
    "y = df_encoded[outcome]\n",
    "\n",
    "lr = LogisticRegression(solver='lbfgs', max_iter=1000)\n",
    "ipw = IPW(lr)\n",
    "ipw.fit(X, a)\n",
    "\n",
    "# Calculate the ATE\n",
    "outcomes = ipw.estimate_population_outcome(X, a, y)\n",
    "ate = outcomes[1] - outcomes[0]\n",
    "print(f\"Average Treatment Effect (ATE): {ate}\")\n",
    "\n",
    "# Convert data types\n",
    "adjustedCohort = convert_types(adjustedCohort)\n",
    "unadjustedCohort = convert_types(unadjustedCohort)\n",
    "\n",
    "# Save cohorts for visualization\n",
    "base_name = os.path.splitext(os.path.basename(dag_file))[0]\n",
    "adjusted_file_name = f'adjustedCohort_{base_name}.json'\n",
    "unadjusted_file_name = f'unadjustedCohort_{base_name}.json'\n",
    "\n",
    "with open(adjusted_file_name, 'w') as f:\n",
    "    json.dump(adjustedCohort, f, indent=4)\n",
    "with open(unadjusted_file_name, 'w') as f:\n",
    "    json.dump(unadjustedCohort, f, indent=4)"
   ]
  },
  {
   "cell_type": "code",
   "execution_count": null,
   "id": "2c103f30-13a3-4b9e-9e6c-778faf233b37",
   "metadata": {},
   "outputs": [],
   "source": []
  }
 ],
 "metadata": {
  "kernelspec": {
   "display_name": "Python 3 (ipykernel)",
   "language": "python",
   "name": "python3"
  },
  "language_info": {
   "codemirror_mode": {
    "name": "ipython",
    "version": 3
   },
   "file_extension": ".py",
   "mimetype": "text/x-python",
   "name": "python",
   "nbconvert_exporter": "python",
   "pygments_lexer": "ipython3",
   "version": "3.9.19"
  }
 },
 "nbformat": 4,
 "nbformat_minor": 5
}
